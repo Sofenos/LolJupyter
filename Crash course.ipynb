{
 "cells": [
  {
   "cell_type": "code",
   "execution_count": 3,
   "id": "dcb2b161",
   "metadata": {},
   "outputs": [],
   "source": [
    "soufian_nt = 19.75 \n",
    "simo_nt = 9.24\n",
    "simowh_nt = 19.25\n",
    "anas_nt = 15\n",
    "salah = 20"
   ]
  },
  {
   "cell_type": "code",
   "execution_count": 4,
   "id": "c468dc94",
   "metadata": {},
   "outputs": [],
   "source": [
    "students_nt = [19.75, 9.24, 19.25, 15, 20]"
   ]
  },
  {
   "cell_type": "code",
   "execution_count": 6,
   "id": "e6ceec2b",
   "metadata": {},
   "outputs": [
    {
     "name": "stdout",
     "output_type": "stream",
     "text": [
      "[19.75, 9.24, 19.25, 15, 20]\n"
     ]
    }
   ],
   "source": [
    "print(students_nt)"
   ]
  },
  {
   "cell_type": "code",
   "execution_count": 8,
   "id": "5ca0d4a1",
   "metadata": {},
   "outputs": [
    {
     "name": "stdout",
     "output_type": "stream",
     "text": [
      "19.25\n"
     ]
    }
   ],
   "source": [
    "print(students_nt[2])"
   ]
  },
  {
   "cell_type": "code",
   "execution_count": 31,
   "id": "75ceec81",
   "metadata": {},
   "outputs": [],
   "source": [
    "def find_factors(num):\n",
    "    factors = []\n",
    "    for i in range(1, num + 1):\n",
    "        if num % i == 0:\n",
    "            factors.append(i)\n",
    "    return factors"
   ]
  },
  {
   "cell_type": "code",
   "execution_count": 35,
   "id": "c4d6f0aa",
   "metadata": {},
   "outputs": [
    {
     "data": {
      "text/plain": [
       "[1, 2, 4, 5, 10, 20, 25, 50, 100]"
      ]
     },
     "execution_count": 35,
     "metadata": {},
     "output_type": "execute_result"
    }
   ],
   "source": [
    "find_factors(100)"
   ]
  },
  {
   "cell_type": "code",
   "execution_count": 38,
   "id": "38faa31f",
   "metadata": {},
   "outputs": [
    {
     "name": "stdout",
     "output_type": "stream",
     "text": [
      "9 x 1 = 9\n",
      "9 x 2 = 18\n",
      "9 x 3 = 27\n",
      "9 x 4 = 36\n",
      "9 x 5 = 45\n",
      "9 x 6 = 54\n",
      "9 x 7 = 63\n",
      "9 x 8 = 72\n",
      "9 x 9 = 81\n",
      "9 x 10 = 90\n"
     ]
    }
   ],
   "source": [
    "def display_multiplication_table(n):\n",
    "    for i in range(1, 11):\n",
    "        result = n * i\n",
    "        print(f\"{n} x {i} = {result}\")\n",
    "\n",
    "# Display multiplication table of nine\n",
    "display_multiplication_table(9)\n"
   ]
  },
  {
   "cell_type": "code",
   "execution_count": 2,
   "id": "8afd89b5",
   "metadata": {},
   "outputs": [
    {
     "name": "stdout",
     "output_type": "stream",
     "text": [
      "Select operation:\n",
      "1. Add\n",
      "2. Subtract\n",
      "3. Multiply\n",
      "4. Divide\n",
      "Enter choice (1-4): 3\n",
      "Enter first number: 5\n",
      "Enter second number: 4\n",
      "5.0 * 4.0 = 20.0\n"
     ]
    }
   ],
   "source": [
    "def add(num1, num2):\n",
    "    return num1 + num2\n",
    "\n",
    "def subtract(num1, num2):\n",
    "    return num1 - num2\n",
    "\n",
    "def multiply(num1, num2):\n",
    "    return num1 * num2\n",
    "\n",
    "def divide(num1, num2):\n",
    "    return num1 / num2\n",
    "\n",
    "print(\"Select operation:\")\n",
    "print(\"1. Add\")\n",
    "print(\"2. Subtract\")\n",
    "print(\"3. Multiply\")\n",
    "print(\"4. Divide\")\n",
    "\n",
    "choice = input(\"Enter choice (1-4): \")\n",
    "\n",
    "num1 = float(input(\"Enter first number: \"))\n",
    "num2 = float(input(\"Enter second number: \"))\n",
    "\n",
    "if choice == '1':\n",
    "    print(num1, \"+\", num2, \"=\", add(num1, num2))\n",
    "elif choice == '2':\n",
    "    print(num1, \"-\", num2, \"=\", subtract(num1, num2))\n",
    "elif choice == '3':\n",
    "    print(num1, \"*\", num2, \"=\", multiply(num1, num2))\n",
    "elif choice == '4':\n",
    "    print(num1, \"/\", num2, \"=\", divide(num1, num2))\n",
    "else:\n",
    "    print(\"Invalid input\")\n"
   ]
  },
  {
   "cell_type": "code",
   "execution_count": null,
   "id": "665d53ee",
   "metadata": {},
   "outputs": [],
   "source": []
  },
  {
   "cell_type": "code",
   "execution_count": null,
   "id": "0849d929",
   "metadata": {},
   "outputs": [],
   "source": []
  }
 ],
 "metadata": {
  "kernelspec": {
   "display_name": "Python 3 (ipykernel)",
   "language": "python",
   "name": "python3"
  },
  "language_info": {
   "codemirror_mode": {
    "name": "ipython",
    "version": 3
   },
   "file_extension": ".py",
   "mimetype": "text/x-python",
   "name": "python",
   "nbconvert_exporter": "python",
   "pygments_lexer": "ipython3",
   "version": "3.10.9"
  }
 },
 "nbformat": 4,
 "nbformat_minor": 5
}
